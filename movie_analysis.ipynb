{
 "cells": [
  {
   "cell_type": "code",
   "execution_count": 47,
   "metadata": {},
   "outputs": [],
   "source": [
    "import csv\n",
    "from collections import defaultdict\n",
    "from pathlib import Path\n",
    "\n",
    "import nltk\n",
    "import numpy as np\n",
    "import pandas as pd\n",
    "from nltk.corpus import stopwords\n",
    "from nltk.stem import SnowballStemmer\n",
    "from nltk.tokenize import word_tokenize\n",
    "from sklearn.feature_extraction.text import TfidfVectorizer\n",
    "from sklearn.linear_model import LogisticRegression\n",
    "from sklearn.model_selection import train_test_split, GridSearchCV\n",
    "from sklearn.multiclass import OneVsRestClassifier\n",
    "from sklearn.preprocessing import MultiLabelBinarizer, StandardScaler\n",
    "from sklearn.svm import LinearSVC\n",
    "\n",
    "from scripts.preprocess_data import preprocess_data\n",
    "from utils.helpers import list_from_yaml\n",
    "from utils.metrics import confusion_matrix, classifcation_metrics\n",
    "from utils.serialization import load_json, save_pickle, save_json\n",
    "from utils.text_cleaning import remove_stopwords"
   ]
  },
  {
   "cell_type": "markdown",
   "metadata": {},
   "source": [
    "# Constants"
   ]
  },
  {
   "cell_type": "code",
   "execution_count": 48,
   "metadata": {},
   "outputs": [],
   "source": [
    "DATA_PATH = Path('./data')\n",
    "SAVE_PATH = Path('./trained_models')"
   ]
  },
  {
   "cell_type": "markdown",
   "metadata": {},
   "source": [
    "# Pre-process data"
   ]
  },
  {
   "cell_type": "code",
   "execution_count": 29,
   "metadata": {},
   "outputs": [],
   "source": [
    "# preprocess_data(DATA_PATH)"
   ]
  },
  {
   "cell_type": "markdown",
   "metadata": {},
   "source": [
    "\n",
    "# Load Pre-processed data"
   ]
  },
  {
   "cell_type": "code",
   "execution_count": 49,
   "metadata": {},
   "outputs": [
    {
     "data": {
      "text/html": [
       "<div>\n",
       "<style scoped>\n",
       "    .dataframe tbody tr th:only-of-type {\n",
       "        vertical-align: middle;\n",
       "    }\n",
       "\n",
       "    .dataframe tbody tr th {\n",
       "        vertical-align: top;\n",
       "    }\n",
       "\n",
       "    .dataframe thead th {\n",
       "        text-align: right;\n",
       "    }\n",
       "</style>\n",
       "<table border=\"1\" class=\"dataframe\">\n",
       "  <thead>\n",
       "    <tr style=\"text-align: right;\">\n",
       "      <th></th>\n",
       "      <th>movie_name</th>\n",
       "      <th>freebase_movie_id</th>\n",
       "      <th>movie_release_date</th>\n",
       "      <th>movie_box_office_revenue</th>\n",
       "      <th>movie_runtime</th>\n",
       "      <th>movie_languages</th>\n",
       "      <th>movie_countries</th>\n",
       "      <th>movie_genres</th>\n",
       "      <th>plot_summary</th>\n",
       "    </tr>\n",
       "  </thead>\n",
       "  <tbody>\n",
       "    <tr>\n",
       "      <th>0</th>\n",
       "      <td>Ghosts of Mars</td>\n",
       "      <td>/m/03vyhn</td>\n",
       "      <td>2001-08-24</td>\n",
       "      <td>14010832.0</td>\n",
       "      <td>98.0</td>\n",
       "      <td>{\"/m/02h40lc\": \"English Language\"}</td>\n",
       "      <td>{\"/m/09c7w0\": \"United States of America\"}</td>\n",
       "      <td>['science fiction', 'supernatural', 'action', ...</td>\n",
       "      <td>Set in the second half of the 22nd century the...</td>\n",
       "    </tr>\n",
       "    <tr>\n",
       "      <th>1</th>\n",
       "      <td>White Of The Eye</td>\n",
       "      <td>/m/0285_cd</td>\n",
       "      <td>1987</td>\n",
       "      <td>NaN</td>\n",
       "      <td>110.0</td>\n",
       "      <td>{\"/m/02h40lc\": \"English Language\"}</td>\n",
       "      <td>{\"/m/07ssc\": \"United Kingdom\"}</td>\n",
       "      <td>['psychological thriller', 'thriller']</td>\n",
       "      <td>A series of murders of rich young women throug...</td>\n",
       "    </tr>\n",
       "    <tr>\n",
       "      <th>2</th>\n",
       "      <td>A Woman in Flames</td>\n",
       "      <td>/m/01mrr1</td>\n",
       "      <td>1983</td>\n",
       "      <td>NaN</td>\n",
       "      <td>106.0</td>\n",
       "      <td>{\"/m/04306rv\": \"German Language\"}</td>\n",
       "      <td>{\"/m/0345h\": \"Germany\"}</td>\n",
       "      <td>['drama']</td>\n",
       "      <td>Eva an upper class housewife becomes frustrate...</td>\n",
       "    </tr>\n",
       "    <tr>\n",
       "      <th>3</th>\n",
       "      <td>The Sorcerer's Apprentice</td>\n",
       "      <td>/m/04jcqvw</td>\n",
       "      <td>2002</td>\n",
       "      <td>NaN</td>\n",
       "      <td>86.0</td>\n",
       "      <td>{\"/m/02h40lc\": \"English Language\"}</td>\n",
       "      <td>{\"/m/0hzlz\": \"South Africa\"}</td>\n",
       "      <td>['family', 'adventure', 'world cinema', 'fanta...</td>\n",
       "      <td>Every hundred years the evil Morgana returns t...</td>\n",
       "    </tr>\n",
       "    <tr>\n",
       "      <th>4</th>\n",
       "      <td>Little city</td>\n",
       "      <td>/m/0gffwj</td>\n",
       "      <td>1997-04-04</td>\n",
       "      <td>NaN</td>\n",
       "      <td>93.0</td>\n",
       "      <td>{\"/m/02h40lc\": \"English Language\"}</td>\n",
       "      <td>{\"/m/09c7w0\": \"United States of America\"}</td>\n",
       "      <td>['comedy', 'romance', 'drama', 'comedy-drama',...</td>\n",
       "      <td>Adam a San Francisco-based artist who works as...</td>\n",
       "    </tr>\n",
       "  </tbody>\n",
       "</table>\n",
       "</div>"
      ],
      "text/plain": [
       "                  movie_name freebase_movie_id movie_release_date  \\\n",
       "0             Ghosts of Mars         /m/03vyhn         2001-08-24   \n",
       "1           White Of The Eye        /m/0285_cd               1987   \n",
       "2          A Woman in Flames         /m/01mrr1               1983   \n",
       "3  The Sorcerer's Apprentice        /m/04jcqvw               2002   \n",
       "4                Little city         /m/0gffwj         1997-04-04   \n",
       "\n",
       "   movie_box_office_revenue  movie_runtime  \\\n",
       "0                14010832.0           98.0   \n",
       "1                       NaN          110.0   \n",
       "2                       NaN          106.0   \n",
       "3                       NaN           86.0   \n",
       "4                       NaN           93.0   \n",
       "\n",
       "                      movie_languages  \\\n",
       "0  {\"/m/02h40lc\": \"English Language\"}   \n",
       "1  {\"/m/02h40lc\": \"English Language\"}   \n",
       "2   {\"/m/04306rv\": \"German Language\"}   \n",
       "3  {\"/m/02h40lc\": \"English Language\"}   \n",
       "4  {\"/m/02h40lc\": \"English Language\"}   \n",
       "\n",
       "                             movie_countries  \\\n",
       "0  {\"/m/09c7w0\": \"United States of America\"}   \n",
       "1             {\"/m/07ssc\": \"United Kingdom\"}   \n",
       "2                    {\"/m/0345h\": \"Germany\"}   \n",
       "3               {\"/m/0hzlz\": \"South Africa\"}   \n",
       "4  {\"/m/09c7w0\": \"United States of America\"}   \n",
       "\n",
       "                                        movie_genres  \\\n",
       "0  ['science fiction', 'supernatural', 'action', ...   \n",
       "1             ['psychological thriller', 'thriller']   \n",
       "2                                          ['drama']   \n",
       "3  ['family', 'adventure', 'world cinema', 'fanta...   \n",
       "4  ['comedy', 'romance', 'drama', 'comedy-drama',...   \n",
       "\n",
       "                                        plot_summary  \n",
       "0  Set in the second half of the 22nd century the...  \n",
       "1  A series of murders of rich young women throug...  \n",
       "2  Eva an upper class housewife becomes frustrate...  \n",
       "3  Every hundred years the evil Morgana returns t...  \n",
       "4  Adam a San Francisco-based artist who works as...  "
      ]
     },
     "execution_count": 49,
     "metadata": {},
     "output_type": "execute_result"
    }
   ],
   "source": [
    "movie_data = pd.read_csv(DATA_PATH / 'prepared_movie_data.csv')\n",
    "movie_data.head()"
   ]
  },
  {
   "cell_type": "markdown",
   "metadata": {},
   "source": [
    "# Continue Pre-processing"
   ]
  },
  {
   "cell_type": "markdown",
   "metadata": {},
   "source": [
    "## Lower & Tokenize"
   ]
  },
  {
   "cell_type": "code",
   "execution_count": 50,
   "metadata": {},
   "outputs": [],
   "source": [
    "# to lower case\n",
    "movie_data.loc[:, 'plot_summary'] = movie_data['plot_summary'].apply(lambda x: x.lower())\n",
    "# tokenizing\n",
    "movie_data.loc[:, 'tokenized_summary'] = movie_data['plot_summary'].apply(word_tokenize)"
   ]
  },
  {
   "cell_type": "markdown",
   "metadata": {},
   "source": [
    "## Add 100 most frequent words to list of stopwords"
   ]
  },
  {
   "cell_type": "code",
   "execution_count": 51,
   "metadata": {},
   "outputs": [],
   "source": [
    "# add stop words\n",
    "frequent_words = defaultdict(lambda: 0)\n",
    "for summary in movie_data['tokenized_summary']:\n",
    "    for word in summary:\n",
    "        frequent_words[word] += 1\n",
    "frequent_words = sorted(frequent_words.items(), key=lambda item: item[1], reverse=True)"
   ]
  },
  {
   "cell_type": "code",
   "execution_count": 52,
   "metadata": {
    "scrolled": false
   },
   "outputs": [],
   "source": [
    "most_frequent_words = pd.DataFrame(frequent_words).head(100)\n",
    "most_frequent_words = set(most_frequent_words[0]).union(set(stopwords.words('English')))"
   ]
  },
  {
   "cell_type": "markdown",
   "metadata": {},
   "source": [
    "## Remove stopwords from data"
   ]
  },
  {
   "cell_type": "code",
   "execution_count": 34,
   "metadata": {
    "scrolled": false
   },
   "outputs": [],
   "source": [
    "stemmer = SnowballStemmer('english')"
   ]
  },
  {
   "cell_type": "code",
   "execution_count": 35,
   "metadata": {},
   "outputs": [],
   "source": [
    "movie_data.loc[:, 'cleaned_plot_summary'] = movie_data['tokenized_summary'].apply(remove_stopwords, stemmer=stemmer, stopwords=most_frequent_words)"
   ]
  },
  {
   "cell_type": "markdown",
   "metadata": {},
   "source": [
    "## Convert genres to multilabel one hot encoding"
   ]
  },
  {
   "cell_type": "code",
   "execution_count": 11,
   "metadata": {},
   "outputs": [
    {
     "name": "stdout",
     "output_type": "stream",
     "text": [
      "Loaded file: genre_mapping.json successfully\n"
     ]
    }
   ],
   "source": [
    "genre_mapping = load_json(DATA_PATH, 'genre_mapping')"
   ]
  },
  {
   "cell_type": "code",
   "execution_count": 12,
   "metadata": {},
   "outputs": [],
   "source": [
    "def get_genre_index(x, mapping=genre_mapping):\n",
    "    x = list_from_yaml(x)\n",
    "    return [genre_mapping[genre] for genre in x]\n",
    "        "
   ]
  },
  {
   "cell_type": "code",
   "execution_count": 13,
   "metadata": {},
   "outputs": [],
   "source": [
    "movie_data.loc[:, 'genre_indices'] = movie_data['movie_genres'].apply(get_genre_index)"
   ]
  },
  {
   "cell_type": "markdown",
   "metadata": {},
   "source": [
    "# Training"
   ]
  },
  {
   "cell_type": "markdown",
   "metadata": {},
   "source": [
    "## Parameters"
   ]
  },
  {
   "cell_type": "code",
   "execution_count": 14,
   "metadata": {},
   "outputs": [],
   "source": [
    "TRAIN_SPLIT = 0.8\n",
    "VALIDATION_SPLIT = 0.5\n",
    "RANDOM_STATE = 42 # seed"
   ]
  },
  {
   "cell_type": "markdown",
   "metadata": {},
   "source": [
    "## Train/Test split"
   ]
  },
  {
   "cell_type": "code",
   "execution_count": 15,
   "metadata": {},
   "outputs": [],
   "source": [
    "train_data, test_data = train_test_split(movie_data, train_size=TRAIN_SPLIT, shuffle=True,\n",
    "                                         random_state=RANDOM_STATE)\n",
    "val_data, test_data = train_test_split(test_data, train_size=TRAIN_SPLIT, shuffle=True,\n",
    "                                       random_state=RANDOM_STATE)"
   ]
  },
  {
   "cell_type": "markdown",
   "metadata": {},
   "source": [
    "### Generate Data"
   ]
  },
  {
   "cell_type": "code",
   "execution_count": 16,
   "metadata": {},
   "outputs": [],
   "source": [
    "mlb = MultiLabelBinarizer()\n",
    "tfidf = TfidfVectorizer()"
   ]
  },
  {
   "cell_type": "code",
   "execution_count": 17,
   "metadata": {},
   "outputs": [
    {
     "name": "stdout",
     "output_type": "stream",
     "text": [
      "train data has 33143 movies, test data has 1658 movies\n"
     ]
    }
   ],
   "source": [
    "train_X, train_y = tfidf.fit_transform(train_data['cleaned_plot_summary'].to_numpy()), mlb.fit_transform(train_data['genre_indices'].to_numpy())\n",
    "test_X, test_y = tfidf.transform(test_data['cleaned_plot_summary'].to_numpy()), mlb.transform(test_data['genre_indices'].to_numpy())\n",
    "print(f'train data has {train_X.shape[0]} movies,'\n",
    "      f' test data has {test_X.shape[0]} movies')"
   ]
  },
  {
   "cell_type": "markdown",
   "metadata": {},
   "source": [
    "## Logistic Regression"
   ]
  },
  {
   "cell_type": "code",
   "execution_count": 24,
   "metadata": {
    "scrolled": false
   },
   "outputs": [
    {
     "name": "stdout",
     "output_type": "stream",
     "text": [
      "Best training F1 score: 0.39500\n",
      "Best parameters: {'estimator__C': 4.0}\n"
     ]
    }
   ],
   "source": [
    "params = {'estimator__C': np.arange(1.0, 5, 1)}\n",
    "lr_ovr = OneVsRestClassifier(LogisticRegression(multi_class='ovr', solver='sag', max_iter=100))\n",
    "gs_classifier = GridSearchCV(lr_ovr, param_grid=params, scoring='f1_micro')\n",
    "gs_classifier.fit(train_X, train_y)\n",
    "print(f'Best training F1 score: {gs_classifier.best_score_:.5f}')\n",
    "print(f'Best parameters: {gs_classifier.best_params_}')"
   ]
  },
  {
   "cell_type": "code",
   "execution_count": 27,
   "metadata": {},
   "outputs": [
    {
     "data": {
      "text/plain": [
       "OneVsRestClassifier(estimator=LogisticRegression(C=4.0, max_iter=1000,\n",
       "                                                 multi_class='ovr',\n",
       "                                                 solver='sag'))"
      ]
     },
     "execution_count": 27,
     "metadata": {},
     "output_type": "execute_result"
    }
   ],
   "source": [
    "lr_ovr = OneVsRestClassifier(LogisticRegression(multi_class='ovr', solver='sag',\n",
    "                                                max_iter=1000, C= 4.0))\n",
    "lr_ovr.fit(train_X, train_y)"
   ]
  },
  {
   "cell_type": "code",
   "execution_count": 28,
   "metadata": {},
   "outputs": [
    {
     "name": "stdout",
     "output_type": "stream",
     "text": [
      "Test Metrics\n"
     ]
    },
    {
     "data": {
      "text/plain": [
       "{'precision': 0.6730118443316413,\n",
       " 'recall': 0.30696507814007334,\n",
       " 'accuracy': 0.9503266040011835,\n",
       " 'f1': 0.4216244865509474}"
      ]
     },
     "execution_count": 28,
     "metadata": {},
     "output_type": "execute_result"
    }
   ],
   "source": [
    "pred_y = lr_ovr.predict(test_X)\n",
    "print('Test Metrics')\n",
    "TP, TN, FP, FN = confusion_matrix(pred_y, test_y)\n",
    "test_metrics = classifcation_metrics(TP, TN, FP, FN)\n",
    "test_metrics"
   ]
  },
  {
   "cell_type": "markdown",
   "metadata": {},
   "source": [
    "## SVM"
   ]
  },
  {
   "cell_type": "code",
   "execution_count": 38,
   "metadata": {},
   "outputs": [
    {
     "data": {
      "text/plain": [
       "OneVsRestClassifier(estimator=LinearSVC(C=3))"
      ]
     },
     "execution_count": 38,
     "metadata": {},
     "output_type": "execute_result"
    }
   ],
   "source": [
    "svm_ovr = OneVsRestClassifier(LinearSVC(C=3))\n",
    "svm_ovr.fit(train_X, train_y)"
   ]
  },
  {
   "cell_type": "code",
   "execution_count": 39,
   "metadata": {},
   "outputs": [
    {
     "data": {
      "text/plain": [
       "{'precision': 0.5634132086499123,\n",
       " 'recall': 0.37198533667759986,\n",
       " 'accuracy': 0.9459567107449303,\n",
       " 'f1': 0.4481115630447414}"
      ]
     },
     "execution_count": 39,
     "metadata": {},
     "output_type": "execute_result"
    }
   ],
   "source": [
    "pred_y = svm_ovr.predict(test_X)\n",
    "TP, TN, FP, FN = confusion_matrix(pred_y, test_y)\n",
    "test_metrics = classifcation_metrics(TP, TN, FP, FN)\n",
    "test_metrics"
   ]
  },
  {
   "cell_type": "markdown",
   "metadata": {},
   "source": [
    "# Saving models"
   ]
  },
  {
   "cell_type": "code",
   "execution_count": null,
   "metadata": {},
   "outputs": [],
   "source": [
    "metadata = {'tokenizer': word_tokenize,\n",
    "            'genre_mapping': genre_mapping,\n",
    "            'stopwords': most_frequent_words,\n",
    "            'tfidf': tfidf,\n",
    "            'mlb': mlb,\n",
    "            'stemmer': stemmer,\n",
    "            'model_type': 'sklearn'}"
   ]
  },
  {
   "cell_type": "code",
   "execution_count": null,
   "metadata": {
    "scrolled": true
   },
   "outputs": [],
   "source": [
    "save_pickle(metadata, SAVE_PATH, 'lr_metadata')\n",
    "save_pickle(lr_ovr, SAVE_PATH, 'lr')\n",
    "save_pickle(metadata, SAVE_PATH, 'svm_metadata')\n",
    "save_pickle(svm_ovr, SAVE_PATH, 'svm')"
   ]
  }
 ],
 "metadata": {
  "kernelspec": {
   "display_name": "Python 3",
   "language": "python",
   "name": "python3"
  },
  "language_info": {
   "codemirror_mode": {
    "name": "ipython",
    "version": 3
   },
   "file_extension": ".py",
   "mimetype": "text/x-python",
   "name": "python",
   "nbconvert_exporter": "python",
   "pygments_lexer": "ipython3",
   "version": "3.7.6"
  },
  "latex_envs": {
   "LaTeX_envs_menu_present": true,
   "autoclose": false,
   "autocomplete": true,
   "bibliofile": "biblio.bib",
   "cite_by": "apalike",
   "current_citInitial": 1,
   "eqLabelWithNumbers": true,
   "eqNumInitial": 1,
   "hotkeys": {
    "equation": "Ctrl-E",
    "itemize": "Ctrl-I"
   },
   "labels_anchors": false,
   "latex_user_defs": false,
   "report_style_numbering": false,
   "user_envs_cfg": false
  },
  "toc": {
   "nav_menu": {},
   "number_sections": true,
   "sideBar": true,
   "skip_h1_title": false,
   "title_cell": "Table of Contents",
   "title_sidebar": "Contents",
   "toc_cell": false,
   "toc_position": {},
   "toc_section_display": true,
   "toc_window_display": false
  }
 },
 "nbformat": 4,
 "nbformat_minor": 2
}
